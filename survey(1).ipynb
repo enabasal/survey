{
 "cells": [
  {
   "cell_type": "code",
   "execution_count": 53,
   "id": "9c5a0f37-4a44-4394-8f07-bf213eae843d",
   "metadata": {},
   "outputs": [],
   "source": [
    "import pandas as pd\n",
    "import numpy as np\n",
    "import matplotlib.pyplot as plt\n",
    "import seaborn as sns\n",
    "from scipy import stats\n",
    "from scipy.stats import chi2_contingency\n"
   ]
  },
  {
   "cell_type": "code",
   "execution_count": 54,
   "id": "cc745060-c715-4ec0-8d53-af1fc4787c5e",
   "metadata": {},
   "outputs": [],
   "source": [
    "df=pd.read_csv(\"survey.csv\")"
   ]
  },
  {
   "cell_type": "code",
   "execution_count": 55,
   "id": "b8b4d214-1e54-4831-a3fa-84e487dd0c4e",
   "metadata": {},
   "outputs": [
    {
     "data": {
      "text/html": [
       "<div>\n",
       "<style scoped>\n",
       "    .dataframe tbody tr th:only-of-type {\n",
       "        vertical-align: middle;\n",
       "    }\n",
       "\n",
       "    .dataframe tbody tr th {\n",
       "        vertical-align: top;\n",
       "    }\n",
       "\n",
       "    .dataframe thead th {\n",
       "        text-align: right;\n",
       "    }\n",
       "</style>\n",
       "<table border=\"1\" class=\"dataframe\">\n",
       "  <thead>\n",
       "    <tr style=\"text-align: right;\">\n",
       "      <th></th>\n",
       "      <th>Timestamp</th>\n",
       "      <th>Age</th>\n",
       "      <th>Gender</th>\n",
       "      <th>Country</th>\n",
       "      <th>state</th>\n",
       "      <th>self_employed</th>\n",
       "      <th>family_history</th>\n",
       "      <th>treatment</th>\n",
       "      <th>work_interfere</th>\n",
       "      <th>no_employees</th>\n",
       "      <th>...</th>\n",
       "      <th>leave</th>\n",
       "      <th>mental_health_consequence</th>\n",
       "      <th>phys_health_consequence</th>\n",
       "      <th>coworkers</th>\n",
       "      <th>supervisor</th>\n",
       "      <th>mental_health_interview</th>\n",
       "      <th>phys_health_interview</th>\n",
       "      <th>mental_vs_physical</th>\n",
       "      <th>obs_consequence</th>\n",
       "      <th>comments</th>\n",
       "    </tr>\n",
       "  </thead>\n",
       "  <tbody>\n",
       "    <tr>\n",
       "      <th>0</th>\n",
       "      <td>27-08-2014 11:29</td>\n",
       "      <td>37</td>\n",
       "      <td>Female</td>\n",
       "      <td>United States</td>\n",
       "      <td>IL</td>\n",
       "      <td>NaN</td>\n",
       "      <td>No</td>\n",
       "      <td>Yes</td>\n",
       "      <td>Often</td>\n",
       "      <td>Jun-25</td>\n",
       "      <td>...</td>\n",
       "      <td>Somewhat easy</td>\n",
       "      <td>No</td>\n",
       "      <td>No</td>\n",
       "      <td>Some of them</td>\n",
       "      <td>Yes</td>\n",
       "      <td>No</td>\n",
       "      <td>Maybe</td>\n",
       "      <td>Yes</td>\n",
       "      <td>No</td>\n",
       "      <td>NaN</td>\n",
       "    </tr>\n",
       "    <tr>\n",
       "      <th>1</th>\n",
       "      <td>27-08-2014 11:29</td>\n",
       "      <td>44</td>\n",
       "      <td>M</td>\n",
       "      <td>United States</td>\n",
       "      <td>IN</td>\n",
       "      <td>NaN</td>\n",
       "      <td>No</td>\n",
       "      <td>No</td>\n",
       "      <td>Rarely</td>\n",
       "      <td>More than 1000</td>\n",
       "      <td>...</td>\n",
       "      <td>Don't know</td>\n",
       "      <td>Maybe</td>\n",
       "      <td>No</td>\n",
       "      <td>No</td>\n",
       "      <td>No</td>\n",
       "      <td>No</td>\n",
       "      <td>No</td>\n",
       "      <td>Don't know</td>\n",
       "      <td>No</td>\n",
       "      <td>NaN</td>\n",
       "    </tr>\n",
       "  </tbody>\n",
       "</table>\n",
       "<p>2 rows × 27 columns</p>\n",
       "</div>"
      ],
      "text/plain": [
       "          Timestamp  Age  Gender        Country state self_employed  \\\n",
       "0  27-08-2014 11:29   37  Female  United States    IL           NaN   \n",
       "1  27-08-2014 11:29   44       M  United States    IN           NaN   \n",
       "\n",
       "  family_history treatment work_interfere    no_employees  ...          leave  \\\n",
       "0             No       Yes          Often          Jun-25  ...  Somewhat easy   \n",
       "1             No        No         Rarely  More than 1000  ...     Don't know   \n",
       "\n",
       "  mental_health_consequence phys_health_consequence     coworkers supervisor  \\\n",
       "0                        No                      No  Some of them        Yes   \n",
       "1                     Maybe                      No            No         No   \n",
       "\n",
       "  mental_health_interview phys_health_interview mental_vs_physical  \\\n",
       "0                      No                 Maybe                Yes   \n",
       "1                      No                    No         Don't know   \n",
       "\n",
       "  obs_consequence comments  \n",
       "0              No      NaN  \n",
       "1              No      NaN  \n",
       "\n",
       "[2 rows x 27 columns]"
      ]
     },
     "execution_count": 55,
     "metadata": {},
     "output_type": "execute_result"
    }
   ],
   "source": [
    "df.head(2)"
   ]
  },
  {
   "cell_type": "code",
   "execution_count": 56,
   "id": "e8eb61d0-9419-4377-80de-441dc1c31071",
   "metadata": {},
   "outputs": [
    {
     "data": {
      "text/plain": [
       "Index(['Timestamp', 'Age', 'Gender', 'Country', 'state', 'self_employed',\n",
       "       'family_history', 'treatment', 'work_interfere', 'no_employees',\n",
       "       'remote_work', 'tech_company', 'benefits', 'care_options',\n",
       "       'wellness_program', 'seek_help', 'anonymity', 'leave',\n",
       "       'mental_health_consequence', 'phys_health_consequence', 'coworkers',\n",
       "       'supervisor', 'mental_health_interview', 'phys_health_interview',\n",
       "       'mental_vs_physical', 'obs_consequence', 'comments'],\n",
       "      dtype='object')"
      ]
     },
     "execution_count": 56,
     "metadata": {},
     "output_type": "execute_result"
    }
   ],
   "source": [
    "df.columns"
   ]
  },
  {
   "cell_type": "code",
   "execution_count": 57,
   "id": "7e5a00e3-9319-46f5-acae-9bc2a8bf63e7",
   "metadata": {},
   "outputs": [],
   "source": [
    "df=df[['Gender','benefits','seek_help']]\n",
    "df.dropna(inplace=True)"
   ]
  },
  {
   "cell_type": "code",
   "execution_count": 58,
   "id": "aca06b79-a6aa-4777-adda-a2535aa63659",
   "metadata": {},
   "outputs": [
    {
     "data": {
      "text/html": [
       "<div>\n",
       "<style scoped>\n",
       "    .dataframe tbody tr th:only-of-type {\n",
       "        vertical-align: middle;\n",
       "    }\n",
       "\n",
       "    .dataframe tbody tr th {\n",
       "        vertical-align: top;\n",
       "    }\n",
       "\n",
       "    .dataframe thead th {\n",
       "        text-align: right;\n",
       "    }\n",
       "</style>\n",
       "<table border=\"1\" class=\"dataframe\">\n",
       "  <thead>\n",
       "    <tr style=\"text-align: right;\">\n",
       "      <th></th>\n",
       "      <th>Gender</th>\n",
       "      <th>benefits</th>\n",
       "      <th>seek_help</th>\n",
       "    </tr>\n",
       "  </thead>\n",
       "  <tbody>\n",
       "    <tr>\n",
       "      <th>0</th>\n",
       "      <td>Female</td>\n",
       "      <td>Yes</td>\n",
       "      <td>Yes</td>\n",
       "    </tr>\n",
       "    <tr>\n",
       "      <th>1</th>\n",
       "      <td>M</td>\n",
       "      <td>Don't know</td>\n",
       "      <td>Don't know</td>\n",
       "    </tr>\n",
       "  </tbody>\n",
       "</table>\n",
       "</div>"
      ],
      "text/plain": [
       "   Gender    benefits   seek_help\n",
       "0  Female         Yes         Yes\n",
       "1       M  Don't know  Don't know"
      ]
     },
     "execution_count": 58,
     "metadata": {},
     "output_type": "execute_result"
    }
   ],
   "source": [
    "df.head(2)"
   ]
  },
  {
   "cell_type": "code",
   "execution_count": 59,
   "id": "4168ed4c-8cd3-44ac-9c3e-c191f5e158f7",
   "metadata": {},
   "outputs": [
    {
     "data": {
      "text/html": [
       "<div>\n",
       "<style scoped>\n",
       "    .dataframe tbody tr th:only-of-type {\n",
       "        vertical-align: middle;\n",
       "    }\n",
       "\n",
       "    .dataframe tbody tr th {\n",
       "        vertical-align: top;\n",
       "    }\n",
       "\n",
       "    .dataframe thead th {\n",
       "        text-align: right;\n",
       "    }\n",
       "</style>\n",
       "<table border=\"1\" class=\"dataframe\">\n",
       "  <thead>\n",
       "    <tr style=\"text-align: right;\">\n",
       "      <th></th>\n",
       "      <th>Gender</th>\n",
       "      <th>benefits</th>\n",
       "      <th>seek_help</th>\n",
       "    </tr>\n",
       "  </thead>\n",
       "  <tbody>\n",
       "    <tr>\n",
       "      <th>0</th>\n",
       "      <td>Female</td>\n",
       "      <td>Yes</td>\n",
       "      <td>Yes</td>\n",
       "    </tr>\n",
       "    <tr>\n",
       "      <th>1</th>\n",
       "      <td>M</td>\n",
       "      <td>Don't know</td>\n",
       "      <td>Don't know</td>\n",
       "    </tr>\n",
       "    <tr>\n",
       "      <th>2</th>\n",
       "      <td>Male</td>\n",
       "      <td>No</td>\n",
       "      <td>No</td>\n",
       "    </tr>\n",
       "    <tr>\n",
       "      <th>3</th>\n",
       "      <td>Male</td>\n",
       "      <td>No</td>\n",
       "      <td>No</td>\n",
       "    </tr>\n",
       "    <tr>\n",
       "      <th>4</th>\n",
       "      <td>Male</td>\n",
       "      <td>Yes</td>\n",
       "      <td>Don't know</td>\n",
       "    </tr>\n",
       "  </tbody>\n",
       "</table>\n",
       "</div>"
      ],
      "text/plain": [
       "   Gender    benefits   seek_help\n",
       "0  Female         Yes         Yes\n",
       "1       M  Don't know  Don't know\n",
       "2    Male          No          No\n",
       "3    Male          No          No\n",
       "4    Male         Yes  Don't know"
      ]
     },
     "execution_count": 59,
     "metadata": {},
     "output_type": "execute_result"
    }
   ],
   "source": [
    "df.head(5)"
   ]
  },
  {
   "cell_type": "code",
   "execution_count": 29,
   "id": "d611b4b8-ec5f-4821-93e3-334e107b6013",
   "metadata": {},
   "outputs": [],
   "source": [
    "def Clean_Gender(G):\n",
    "    G=str(G).strip()\n",
    "    G=G.lower()\n",
    "    if G in ['m', 'male', 'male-ish', 'man', 'cis male'] :\n",
    "        return 'Male'\n",
    "    if G in ['f', 'female', 'cis female', 'woman', 'femail''female']:\n",
    "        return 'Female'\n",
    "    else :\n",
    "        return 'not specified'\n",
    "\n",
    "df['Gender']=df['Gender'].apply(Clean_Gender)"
   ]
  },
  {
   "cell_type": "code",
   "execution_count": 30,
   "id": "b3a73da7-4fa2-4251-8f61-becf38133506",
   "metadata": {},
   "outputs": [
    {
     "data": {
      "text/html": [
       "<div>\n",
       "<style scoped>\n",
       "    .dataframe tbody tr th:only-of-type {\n",
       "        vertical-align: middle;\n",
       "    }\n",
       "\n",
       "    .dataframe tbody tr th {\n",
       "        vertical-align: top;\n",
       "    }\n",
       "\n",
       "    .dataframe thead th {\n",
       "        text-align: right;\n",
       "    }\n",
       "</style>\n",
       "<table border=\"1\" class=\"dataframe\">\n",
       "  <thead>\n",
       "    <tr style=\"text-align: right;\">\n",
       "      <th></th>\n",
       "      <th>Gender</th>\n",
       "      <th>benefits</th>\n",
       "      <th>seek_help</th>\n",
       "    </tr>\n",
       "  </thead>\n",
       "  <tbody>\n",
       "    <tr>\n",
       "      <th>0</th>\n",
       "      <td>Female</td>\n",
       "      <td>Yes</td>\n",
       "      <td>Yes</td>\n",
       "    </tr>\n",
       "    <tr>\n",
       "      <th>1</th>\n",
       "      <td>Male</td>\n",
       "      <td>Don't know</td>\n",
       "      <td>Don't know</td>\n",
       "    </tr>\n",
       "    <tr>\n",
       "      <th>2</th>\n",
       "      <td>Male</td>\n",
       "      <td>No</td>\n",
       "      <td>No</td>\n",
       "    </tr>\n",
       "    <tr>\n",
       "      <th>3</th>\n",
       "      <td>Male</td>\n",
       "      <td>No</td>\n",
       "      <td>No</td>\n",
       "    </tr>\n",
       "    <tr>\n",
       "      <th>4</th>\n",
       "      <td>Male</td>\n",
       "      <td>Yes</td>\n",
       "      <td>Don't know</td>\n",
       "    </tr>\n",
       "  </tbody>\n",
       "</table>\n",
       "</div>"
      ],
      "text/plain": [
       "   Gender    benefits   seek_help\n",
       "0  Female         Yes         Yes\n",
       "1    Male  Don't know  Don't know\n",
       "2    Male          No          No\n",
       "3    Male          No          No\n",
       "4    Male         Yes  Don't know"
      ]
     },
     "execution_count": 30,
     "metadata": {},
     "output_type": "execute_result"
    }
   ],
   "source": [
    "df.head()"
   ]
  },
  {
   "cell_type": "code",
   "execution_count": 31,
   "id": "bf2b261e-f430-4c75-89df-f3cd3b002237",
   "metadata": {},
   "outputs": [
    {
     "name": "stdout",
     "output_type": "stream",
     "text": [
      "      Gender    benefits   seek_help\n",
      "0     Female         Yes         Yes\n",
      "1       Male  Don't know  Don't know\n",
      "2       Male          No          No\n",
      "3       Male          No          No\n",
      "4       Male         Yes  Don't know\n",
      "...      ...         ...         ...\n",
      "1254    Male          No          No\n",
      "1255    Male         Yes          No\n",
      "1256    Male         Yes          No\n",
      "1257  Female          No          No\n",
      "1258    Male         Yes          No\n",
      "\n",
      "[1259 rows x 3 columns]\n"
     ]
    }
   ],
   "source": [
    "print(df)"
   ]
  },
  {
   "cell_type": "code",
   "execution_count": 41,
   "id": "e4ad7634-3d99-4c55-9a59-ed89748c63b0",
   "metadata": {},
   "outputs": [
    {
     "data": {
      "image/png": "[encoded data removed]",
      "text/plain": [
       "<Figure size 640x480 with 1 Axes>"
      ]
     },
     "metadata": {},
     "output_type": "display_data"
    }
   ],
   "source": [
    "import seaborn as sns\n",
    "sns.set(style=\"ticks\")\n",
    "\n",
    "sns.countplot(x='Gender', hue='seek_help', data=df, palette='pastel')\n",
    "plt.title('Help-Seeking Behavior by Gender and Benefits')\n",
    "plt.xlabel('Gender')\n",
    "plt.ylabel('Number of People')\n",
    "plt.legend(title='seek_help')\n",
    "plt.tight_layout()\n",
    "plt.show()\n"
   ]
  },
  {
   "cell_type": "code",
   "execution_count": 42,
   "id": "e8a51236-4a18-45e8-90ff-4843aa543989",
   "metadata": {},
   "outputs": [
    {
     "name": "stdout",
     "output_type": "stream",
     "text": [
      "Chi-square Test between 'Gender', 'Seek Help', and 'Benefits'\n",
      "Chi2 Value: 536.8772917536081\n",
      "P-Value: 5.364055083814923e-104\n",
      "Significant relationship between Gender, Seek Help, and Benefits (Reject Null Hypothesis)\n"
     ]
    }
   ],
   "source": [
    "from scipy.stats import chi2_contingency\n",
    "\n",
    "# 1. Chi-square Test for Gender, Seek Help, and Benefits\n",
    "# Contingency table for Gender, Seek Help, and Benefits\n",
    "contingency_table_gender_help_benefits = pd.crosstab([df['Gender'], df['seek_help']], df['benefits'])\n",
    "\n",
    "# Perform Chi-square test for Gender, Seek Help, and Benefits\n",
    "chi2_gender_help_benefits, p_gender_help_benefits, dof_gender_help_benefits, expected_gender_help_benefits = chi2_contingency(contingency_table_gender_help_benefits)\n",
    "\n",
    "# Display results for Gender, Seek Help, and Benefits\n",
    "print(\"Chi-square Test between 'Gender', 'Seek Help', and 'Benefits'\")\n",
    "print(f\"Chi2 Value: {chi2_gender_help_benefits}\")\n",
    "print(f\"P-Value: {p_gender_help_benefits}\")\n",
    "\n",
    "# Interpretation for Gender, Seek Help, and Benefits\n",
    "if p_gender_help_benefits < 0.05:\n",
    "    print(\"Significant relationship between Gender, Seek Help, and Benefits (Reject Null Hypothesis)\")\n",
    "else:\n",
    "    print(\"No significant relationship between Gender, Seek Help, and Benefits (Fail to Reject Null Hypothesis)\")\n"
   ]
  },
  {
   "cell_type": "code",
   "execution_count": 50,
   "id": "e5bbba40-71f5-448e-a0da-7a4d2eb0967f",
   "metadata": {},
   "outputs": [],
   "source": [
    "# Get total population size\n",
    "total = len(df)\n",
    "\n",
    "# Get P(Benefits) for each category\n",
    "benefit_options = df['benefits'].unique()\n",
    "p_benefits = df['benefits'].value_counts(normalize=True).to_dict()\n",
    "\n",
    "# Get genders\n",
    "genders = df['Gender'].unique()\n",
    "\n",
    "# Create an empty list to collect Bayesian results\n",
    "bayes_results = []\n",
    "\n",
    "for gender in genders:\n",
    "    for benefit in benefit_options:\n",
    "        # Numerator: P(Gender ∩ Seek Help | Benefits) * P(Benefits)\n",
    "\n",
    "        benefit_df = df[df['benefits'] == benefit]\n",
    "        num = len(benefit_df[(benefit_df['Gender'] == gender) & (benefit_df['seek_help'] == 'Yes')]) / len(benefit_df)\n",
    "        prior = p_benefits[benefit]\n",
    "\n",
    "        numerator = num * prior\n",
    "\n",
    "        # Denominator: P(Gender ∩ Seek Help)\n",
    "        denominator = len(df[(df['Gender'] == gender) & (df['seek_help'] == 'Yes')]) / total\n",
    "\n",
    "        if denominator != 0:\n",
    "            prob = round(numerator / denominator, 4)\n",
    "        else:\n",
    "            prob = None  # Avoid division by zero\n",
    "\n",
    "        bayes_results.append([gender, benefit, prob])\n",
    "\n",
    "# Convert results to DataFrame\n",
    "bayes_df = pd.DataFrame(bayes_results, columns=['Gender', 'Benefits', 'P(Benefits | Gender ∩ SeekHelp)'])\n",
    "\n"
   ]
  },
  {
   "cell_type": "code",
   "execution_count": 52,
   "id": "8a38eb12-c263-40ed-9150-0d062bd5bce2",
   "metadata": {},
   "outputs": [
    {
     "data": {
      "image/png": "[encoded data removed]",
      "text/plain": [
       "<Figure size 800x500 with 2 Axes>"
      ]
     },
     "metadata": {},
     "output_type": "display_data"
    }
   ],
   "source": [
    "# Reshaping the DataFrame for plotting\n",
    "plot_ready = bayes_df.pivot_table(\n",
    "    index='Benefits',\n",
    "    columns='Gender',\n",
    "    values='P(Benefits | Gender ∩ SeekHelp)'\n",
    ")\n",
    "\n",
    "# Setting up the figure\n",
    "plt.figure(figsize=(8, 5))\n",
    "sns.heatmap(\n",
    "    data=plot_ready,\n",
    "    annot=True,\n",
    "    cmap='YlGnBu',\n",
    "    fmt=\".2f\",\n",
    "    linewidths=0.4,\n",
    "    linecolor='gray',\n",
    "    cbar_kws={'label': 'Conditional Probability'}\n",
    ")\n",
    "\n",
    "# Adding labels and title\n",
    "plt.title(\"Bayesian Estimate: Mental Health Benefits Given Gender & Help-Seeking\", fontsize=13)\n",
    "plt.xlabel(\"Gender\")\n",
    "plt.ylabel(\"Reported Mental Health Benefits\")\n",
    "plt.xticks(rotation=0)\n",
    "plt.yticks(rotation=0)\n",
    "plt.tight_layout()\n",
    "plt.show()\n"
   ]
  },
  {
   "cell_type": "code",
   "execution_count": null,
   "id": "450132c4-2f33-40a2-b680-6e01f3c15fc6",
   "metadata": {},
   "outputs": [],
   "source": []
  }
 ],
 "metadata": {
  "kernelspec": {
   "display_name": "Python 3 (ipykernel)",
   "language": "python",
   "name": "python3"
  },
  "language_info": {
   "codemirror_mode": {
    "name": "ipython",
    "version": 3
   },
   "file_extension": ".py",
   "mimetype": "text/x-python",
   "name": "python",
   "nbconvert_exporter": "python",
   "pygments_lexer": "ipython3",
   "version": "3.13.0"
  }
 },
 "nbformat": 4,
 "nbformat_minor": 5
}
